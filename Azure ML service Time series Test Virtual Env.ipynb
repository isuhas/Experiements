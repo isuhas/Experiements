{
 "cells": [
  {
   "cell_type": "markdown",
   "metadata": {},
   "source": [
    "https://docs.microsoft.com/en-us/learn/paths/build-ai-solutions-with-azure-ml-service/"
   ]
  },
  {
   "cell_type": "markdown",
   "metadata": {},
   "source": [
    "https://thenewstack.io/build-and-deploy-a-machine-learning-model-with-azure-ml-service/"
   ]
  },
  {
   "cell_type": "code",
   "execution_count": 12,
   "metadata": {},
   "outputs": [],
   "source": [
    "# !pip install statsmodels"
   ]
  },
  {
   "cell_type": "code",
   "execution_count": null,
   "metadata": {},
   "outputs": [],
   "source": [
    "import datetime\n",
    "import numpy as np\n",
    "import pandas as pd\n",
    "from sklearn.externals import joblib\n",
    " \n",
    "import azureml.core\n",
    "from azureml.core import Workspace\n",
    "from azureml.core.model import Model\n",
    "from azureml.core import Experiment\n",
    "from azureml.core.webservice import Webservice\n",
    "from azureml.core.image import ContainerImage\n",
    "from azureml.core.webservice import AciWebservice\n",
    "from azureml.core.conda_dependencies import CondaDependencies\n",
    "\n",
    "from azureml.core import Workspace, Experiment, Run\n",
    "pd.set_option('display.precision',3)\n",
    "\n",
    "import math, random, pickle\n"
   ]
  },
  {
   "cell_type": "code",
   "execution_count": 3,
   "metadata": {},
   "outputs": [],
   "source": [
    "# ws = Workspace.from_config(aml)"
   ]
  },
  {
   "cell_type": "code",
   "execution_count": null,
   "metadata": {
    "scrolled": true
   },
   "outputs": [],
   "source": [
    "ws = Workspace.create(name='aml',\n",
    "                      subscription_id='xxxxxxxxxxxxxxxx', \n",
    "                      resource_group='ml_test',\n",
    "                      create_resource_group = True,\n",
    "                      location='southeastasia'\n",
    "                     )\n",
    "\n",
    "\n",
    "# ws = Workspace.get(name='aml',\n",
    "#                       subscription_id='xxxxxxxxxxxxxxxx', \n",
    "#                       resource_group='ml_test',\n",
    "# #                       create_resource_group = True,\n",
    "# #                       location='southeastasia'\n",
    "#                      )"
   ]
  },
  {
   "cell_type": "code",
   "execution_count": 39,
   "metadata": {},
   "outputs": [],
   "source": [
    "# from azureml.core import Workspace, Experiment, Run\n",
    "# import math, random, pickle, json\n",
    "\n",
    "\n",
    "exp = Experiment(workspace = ws, name='ts')\n",
    "run = exp.start_logging()                   \n",
    "run.log(\"Experiment start time\", str(datetime.datetime.now()))"
   ]
  },
  {
   "cell_type": "code",
   "execution_count": 40,
   "metadata": {},
   "outputs": [],
   "source": [
    "df = pd.read_csv('data/international-airline-passengers.csv',parse_dates=['Month'], \n",
    "                 index_col='Month')"
   ]
  },
  {
   "cell_type": "code",
   "execution_count": 41,
   "metadata": {},
   "outputs": [],
   "source": [
    "import pandas as pd\n",
    "import numpy as np\n",
    "import matplotlib.pyplot as plt\n",
    "from statsmodels.tsa.holtwinters import ExponentialSmoothing"
   ]
  },
  {
   "cell_type": "code",
   "execution_count": 115,
   "metadata": {},
   "outputs": [],
   "source": [
    "# df.iloc[:130, 0]"
   ]
  },
  {
   "cell_type": "code",
   "execution_count": 52,
   "metadata": {},
   "outputs": [],
   "source": [
    "def model_eval(y, predictions):\n",
    "    \n",
    "    # Import library for metrics\n",
    "    from sklearn.metrics import mean_squared_error, r2_score, mean_absolute_error\n",
    "\n",
    "    # Mean absolute error (MAE)\n",
    "    mae = mean_absolute_error(y, predictions)\n",
    "\n",
    "    # Mean squared error (MSE)\n",
    "    mse = mean_squared_error(y, predictions)\n",
    "\n",
    "    \n",
    "    # SMAPE is an alternative for MAPE when there are zeros in the testing data. It\n",
    "    # scales the absolute percentage by the sum of forecast and observed values\n",
    "    SMAPE = np.mean(np.abs((y - predictions) / ((y + predictions)/2))) * 100\n",
    "\n",
    "\n",
    "    # Calculate the Root Mean Squared Error\n",
    "    rmse = np.sqrt(mean_squared_error(y, predictions))\n",
    "    \n",
    "    # Calculate the Mean Absolute Percentage Error\n",
    "    #     y, predictions = check_array(y, predictions)\n",
    "    MAPE = np.mean(np.abs((y - predictions) / y)) * 100\n",
    "    \n",
    "    #     mean_forecast_error\n",
    "    mfe = np.mean(y - predictions)\n",
    "    \n",
    "    # NMSE normalizes the obtained MSE after dividing it by the test variance. It\n",
    "    # is a balanced error measure and is very effective in judging forecast\n",
    "    # accuracy of a model.\n",
    "\n",
    "    #     normalised_mean_squared_error\n",
    "    NMSE = mse / (np.sum((y - np.mean(y)) ** 2)/(len(y)-1))\n",
    "\n",
    "    \n",
    "    #theil_u_statistic\n",
    "    # It is a normalized measure of total forecast error.\n",
    "    error = y - predictions\n",
    "    mfe = np.sqrt(np.mean(predictions**2))\n",
    "    mse = np.sqrt(np.mean(y**2))\n",
    "    rmse = np.sqrt(np.mean(error**2))\n",
    "    theil_u_statistic =  rmse / (mfe*mse)\n",
    "\n",
    "\n",
    "    #     mean_absolute_scaled_error\n",
    "    # This evaluation metric is used to over come some of the problems of MAPE and\n",
    "    # is used to measure if the forecasting model is better than the naive model or\n",
    "    # not.\n",
    "    \n",
    "\n",
    "    # Print metrics\n",
    "    print('Mean Absolute Error:', round(mae, 3))\n",
    "    print('Mean Squared Error:', round(mse, 3))\n",
    "    print('Root Mean Squared Error:', round(rmse, 3))\n",
    "    print('Mean absolute percentage error:', round(MAPE, 3))\n",
    "    print('Scaled Mean absolute percentage error:', round(SMAPE, 3))\n",
    "    print('Mean frequency error:', round(mfe, 3))\n",
    "    print('Normalised mean squared error:', round(NMSE, 3))\n",
    "    print('Theil_u_statistic:', round(theil_u_statistic, 3))"
   ]
  },
  {
   "cell_type": "code",
   "execution_count": 53,
   "metadata": {},
   "outputs": [
    {
     "name": "stderr",
     "output_type": "stream",
     "text": [
      "C:\\Users\\11175\\AppData\\Local\\conda\\conda\\envs\\aml\\lib\\site-packages\\statsmodels\\tsa\\holtwinters.py:712: ConvergenceWarning: Optimization failed to converge. Check mle_retvals.\n",
      "  ConvergenceWarning)\n"
     ]
    },
    {
     "data": {
      "image/png": "[encoded data removed]",
      "text/plain": [
       "<Figure size 432x288 with 1 Axes>"
      ]
     },
     "metadata": {
      "needs_background": "light"
     },
     "output_type": "display_data"
    }
   ],
   "source": [
    "df.index.freq = 'MS'\n",
    "train, test = df.iloc[:130, 0], df.iloc[130:, 0]  #1959-10-01 #1959-11-01\n",
    "model = ExponentialSmoothing(train, seasonal='mul', seasonal_periods=12).fit()\n",
    "pred = model.predict(start=test.index[0], end=test.index[-1])\n",
    "\n",
    "plt.plot(train.index, train, label='Train')\n",
    "plt.plot(test.index, test, label='Test')\n",
    "plt.plot(pred.index, pred, label='Holt-Winters')\n",
    "plt.legend(loc='best');"
   ]
  },
  {
   "cell_type": "code",
   "execution_count": 54,
   "metadata": {},
   "outputs": [
    {
     "name": "stdout",
     "output_type": "stream",
     "text": [
      "Mean Absolute Error: 36.243\n",
      "Mean Squared Error: 469.221\n",
      "Root Mean Squared Error: 38.912\n",
      "Mean absolute percentage error: 7.857\n",
      "Scaled Mean absolute percentage error: 8.225\n",
      "Mean frequency error: 434.814\n",
      "Normalised mean squared error: 0.24\n",
      "Theil_u_statistic: 0.0\n"
     ]
    }
   ],
   "source": [
    "from sklearn.metrics import mean_squared_error, r2_score, mean_absolute_error\n",
    "mean_squared_error(test, pred)\n",
    "model_eval(test, pred)"
   ]
  },
  {
   "cell_type": "code",
   "execution_count": 1,
   "metadata": {},
   "outputs": [],
   "source": [
    "model1 = ExponentialSmoothing(df.iloc[:, 0], seasonal='mul', seasonal_periods=12).fit()\n",
    "pred = model1.foe(6)"
   ]
  },
  {
   "cell_type": "code",
   "execution_count": 62,
   "metadata": {},
   "outputs": [
    {
     "data": {
      "text/plain": [
       "1961-01-01    438.239961\n",
       "1961-02-01    409.808001\n",
       "Freq: MS, dtype: float64"
      ]
     },
     "execution_count": 62,
     "metadata": {},
     "output_type": "execute_result"
    }
   ],
   "source": [
    "model1.forecast(2)"
   ]
  },
  {
   "cell_type": "code",
   "execution_count": 63,
   "metadata": {},
   "outputs": [
    {
     "data": {
      "text/plain": [
       "['outputs/ap_ts_model.pkl']"
      ]
     },
     "execution_count": 63,
     "metadata": {},
     "output_type": "execute_result"
    }
   ],
   "source": [
    "filename = 'outputs/ap_ts_model.pkl'\n",
    "joblib.dump(model1, filename)"
   ]
  },
  {
   "cell_type": "code",
   "execution_count": 26,
   "metadata": {},
   "outputs": [],
   "source": [
    "# model.slope"
   ]
  },
  {
   "cell_type": "code",
   "execution_count": 64,
   "metadata": {},
   "outputs": [],
   "source": [
    "run.log('Intercept :', model.sse)\n",
    "run.log('Slope :', model.slope[0])\n",
    " \n",
    "run.log(\"Experiment end time\", str(datetime.datetime.now()))\n",
    "run.complete()"
   ]
  },
  {
   "cell_type": "code",
   "execution_count": 65,
   "metadata": {},
   "outputs": [
    {
     "name": "stdout",
     "output_type": "stream",
     "text": [
      "Registering model ap_ts_model\n"
     ]
    }
   ],
   "source": [
    "model = Model.register(model_path = \"outputs/ap_ts_model.pkl\",\n",
    "                       model_name = \"ap_ts_model\",\n",
    "                       tags = {\"key\": \"1\"},\n",
    "                       description = \"Airline Passengers Prediction\",\n",
    "                       workspace = ws)"
   ]
  },
  {
   "cell_type": "code",
   "execution_count": 66,
   "metadata": {},
   "outputs": [
    {
     "data": {
      "text/plain": [
       "Timestamp('1960-12-01 00:00:00', freq='MS')"
      ]
     },
     "execution_count": 66,
     "metadata": {},
     "output_type": "execute_result"
    }
   ],
   "source": [
    "test.index[-1]"
   ]
  },
  {
   "cell_type": "code",
   "execution_count": 67,
   "metadata": {},
   "outputs": [
    {
     "name": "stdout",
     "output_type": "stream",
     "text": [
      "Month\n",
      "1960-01-01    411.079046\n",
      "1960-02-01    388.189614\n",
      "1960-03-01    454.519818\n",
      "1960-04-01    425.999754\n",
      "1960-05-01    459.508449\n",
      "1960-06-01    528.189254\n",
      "1960-07-01    610.810408\n",
      "1960-08-01    619.596681\n",
      "1960-09-01    499.714798\n",
      "1960-10-01    436.540051\n",
      "1960-11-01    388.585348\n",
      "1960-12-01    425.988462\n",
      "Freq: MS, dtype: float64\n"
     ]
    }
   ],
   "source": [
    "filename = 'outputs/ap_ts_model.pkl'\n",
    "loaded_model = joblib.load(filename)\n",
    "data = [['1960-01-01', '1960-12-01']]\n",
    "y = loaded_model.predict(start = data[0][0], end = data[0][1])\n",
    "print(y)"
   ]
  },
  {
   "cell_type": "code",
   "execution_count": 4,
   "metadata": {},
   "outputs": [],
   "source": [
    "print(run.get_portal_url())"
   ]
  },
  {
   "cell_type": "code",
   "execution_count": 69,
   "metadata": {},
   "outputs": [],
   "source": [
    "tsenv = CondaDependencies()\n",
    "tsenv.add_conda_package(\"scikit-learn\")\n",
    "tsenv.add_conda_package(\"matplotlib\")\n",
    "tsenv.add_conda_package(\"statsmodels\")"
   ]
  },
  {
   "cell_type": "code",
   "execution_count": 70,
   "metadata": {},
   "outputs": [
    {
     "name": "stdout",
     "output_type": "stream",
     "text": [
      "# Conda environment specification. The dependencies defined in this file will\n",
      "\n",
      "# be automatically provisioned for runs with userManagedDependencies=False.\n",
      "\n",
      "\n",
      "# Details about the Conda environment file format:\n",
      "\n",
      "# https://conda.io/docs/user-guide/tasks/manage-environments.html#create-env-file-manually\n",
      "\n",
      "\n",
      "name: project_environment\n",
      "dependencies:\n",
      "  # The python interpreter version.\n",
      "\n",
      "  # Currently Azure ML only supports 3.5.2 and later.\n",
      "\n",
      "- python=3.6.2\n",
      "\n",
      "- pip:\n",
      "    # Required packages for AzureML execution, history, and data preparation.\n",
      "\n",
      "  - azureml-defaults\n",
      "\n",
      "- scikit-learn\n",
      "- matplotlib\n",
      "- statsmodels\n",
      "channels:\n",
      "- conda-forge\n",
      "\n"
     ]
    }
   ],
   "source": [
    "with open(\"tsenv.yml\",\"w\") as f:\n",
    "    f.write(tsenv.serialize_to_string())\n",
    "with open(\"tsenv.yml\",\"r\") as f:\n",
    "    print(f.read())"
   ]
  },
  {
   "cell_type": "code",
   "execution_count": null,
   "metadata": {},
   "outputs": [],
   "source": [
    "import json\n",
    "# np.array(json.loads([['42']]))\n",
    "\n",
    "json.dumps(y.tolist())"
   ]
  },
  {
   "cell_type": "code",
   "execution_count": 107,
   "metadata": {},
   "outputs": [
    {
     "name": "stdout",
     "output_type": "stream",
     "text": [
      "Overwriting score.py\n"
     ]
    }
   ],
   "source": [
    "%%writefile score.py\n",
    " \n",
    "import json\n",
    "from sklearn.externals import joblib\n",
    "import os\n",
    "import pickle\n",
    "import pandas as pd\n",
    "import numpy as np\n",
    "import matplotlib.pyplot as plt\n",
    "from statsmodels.tsa.holtwinters import ExponentialSmoothing\n",
    " \n",
    "from azureml.core.model import Model\n",
    " \n",
    "def init():\n",
    "    global model\n",
    "    # retrieve the path to the model file using the model name\n",
    "    model_path = Model.get_model_path('ap_ts_model')\n",
    "    model = joblib.load(model_path)\n",
    " \n",
    "def run(raw_data):\n",
    "    data = np.array(json.loads(raw_data)['data'])\n",
    "    print(data)\n",
    "    # make prediction\n",
    "    predi = model.forecast(data)\n",
    "    return json.dumps(predi.tolist())"
   ]
  },
  {
   "cell_type": "code",
   "execution_count": 108,
   "metadata": {},
   "outputs": [
    {
     "name": "stdout",
     "output_type": "stream",
     "text": [
      "Wall time: 999 µs\n"
     ]
    }
   ],
   "source": [
    "%%time\n",
    " \n",
    "image_config = ContainerImage.image_configuration(execution_script=\"score.py\", \n",
    "                                                  runtime=\"python\", \n",
    "                                                  conda_file=\"tsenv.yml\")"
   ]
  },
  {
   "cell_type": "code",
   "execution_count": 109,
   "metadata": {},
   "outputs": [],
   "source": [
    "aciconfig = AciWebservice.deploy_configuration(cpu_cores=1, \n",
    "                                               memory_gb=1, \n",
    "                                               tags={\"data\": \"aml\",  \"method\" : \"ts\"}, \n",
    "                                               description='Predict Airline Passengers')"
   ]
  },
  {
   "cell_type": "code",
   "execution_count": 111,
   "metadata": {},
   "outputs": [
    {
     "name": "stdout",
     "output_type": "stream",
     "text": [
      "Creating image\n",
      "Running...........................................................................\n",
      "Succeeded\n",
      "Image creation operation finished for image ts-air-passengers3:1, operation \"Succeeded\"\n"
     ]
    }
   ],
   "source": [
    "service = Webservice.deploy_from_model(workspace = ws,\n",
    "                                       name = 'ts-air-passengers3',\n",
    "                                       deployment_config = aciconfig,\n",
    "                                       models = [model],\n",
    "                                       image_config = image_config)"
   ]
  },
  {
   "cell_type": "code",
   "execution_count": 112,
   "metadata": {},
   "outputs": [
    {
     "name": "stdout",
     "output_type": "stream",
     "text": [
      "Running....................\n",
      "SucceededACI service creation operation finished, operation \"Succeeded\"\n"
     ]
    }
   ],
   "source": [
    "service.wait_for_deployment(show_output=True)"
   ]
  },
  {
   "cell_type": "code",
   "execution_count": 113,
   "metadata": {},
   "outputs": [],
   "source": [
    "# print(service.get_logs())"
   ]
  },
  {
   "cell_type": "code",
   "execution_count": 5,
   "metadata": {},
   "outputs": [],
   "source": [
    "print(service.scoring_uri)"
   ]
  },
  {
   "cell_type": "code",
   "execution_count": 99,
   "metadata": {},
   "outputs": [],
   "source": [
    "# !curl -X POST -H 'Content-Type':'application/json' -d '{data:[['1960-01-01', '1960-12-01']]}' http://xxxxxxxxxxxxxxxx.southeastasia.azurecontainer.io/score"
   ]
  },
  {
   "cell_type": "code",
   "execution_count": null,
   "metadata": {},
   "outputs": [],
   "source": [
    "# Run in the browser\n",
    "\n",
    "# http://xxxxxxxxxxxxxxxx.southeastasia.azurecontainer.io/score?data=[[45]]\n",
    "\n",
    "\n",
    "# Output: \n",
    "    \n",
    "# \"[185924.79674796748]\""
   ]
  },
  {
   "cell_type": "code",
   "execution_count": 116,
   "metadata": {},
   "outputs": [],
   "source": [
    "ws.delete()"
   ]
  },
  {
   "cell_type": "code",
   "execution_count": null,
   "metadata": {},
   "outputs": [],
   "source": [
    "  \n",
    "#!flask/bin/python\n",
    "from flask import Flask, jsonify\n",
    "from sklearn.externals import joblib\n",
    "\n",
    "\n",
    "filename = 'model/sal_model.pkl'\n",
    "\n",
    "app = Flask(__name__)\n",
    "\n",
    "@app.route('/')\n",
    "def index():\n",
    "    return \"Stackoverflow Salary Predictor\"\n",
    "\n",
    "@app.route('/sal/<int:x>', methods=['GET'])\n",
    "def predict(x):\n",
    "    loaded_model=joblib.load(filename)\n",
    "    y=loaded_model.predict([[x]])[0]\n",
    "    sal=jsonify({'salary': round(y,2)})\n",
    "    return sal\n",
    "\n",
    "if __name__ == '__main__':\n",
    "    app.run(host='0.0.0.0', port=80)"
   ]
  },
  {
   "cell_type": "markdown",
   "metadata": {},
   "source": [
    "# ==============================================================="
   ]
  },
  {
   "cell_type": "code",
   "execution_count": 1,
   "metadata": {},
   "outputs": [],
   "source": [
    "from azureml.core import Workspace, Experiment, Run\n",
    "import math, random, pickle"
   ]
  },
  {
   "cell_type": "code",
   "execution_count": 2,
   "metadata": {},
   "outputs": [
    {
     "name": "stdout",
     "output_type": "stream",
     "text": [
      "2013-04-01 00:00:00\n"
     ]
    }
   ],
   "source": [
    "import datetime\n",
    "import dateutil.relativedelta\n",
    "\n",
    "d = datetime.datetime.strptime(\"2013-05-01\", \"%Y-%m-%d\")\n",
    "d2 = d - dateutil.relativedelta.relativedelta(months=1)\n",
    "print(d2)"
   ]
  },
  {
   "cell_type": "code",
   "execution_count": null,
   "metadata": {},
   "outputs": [],
   "source": []
  }
 ],
 "metadata": {
  "kernelspec": {
   "display_name": "Python 3",
   "language": "python",
   "name": "python3"
  },
  "language_info": {
   "codemirror_mode": {
    "name": "ipython",
    "version": 3
   },
   "file_extension": ".py",
   "mimetype": "text/x-python",
   "name": "python",
   "nbconvert_exporter": "python",
   "pygments_lexer": "ipython3",
   "version": "3.6.5"
  }
 },
 "nbformat": 4,
 "nbformat_minor": 2
}
