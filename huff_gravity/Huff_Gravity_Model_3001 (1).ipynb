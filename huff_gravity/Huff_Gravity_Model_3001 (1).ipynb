{
 "cells": [
  {
   "cell_type": "code",
   "execution_count": 1,
   "metadata": {},
   "outputs": [],
   "source": [
    "import pandas as pd\n",
    "import numpy as np\n",
    "import os\n",
    "import csv\n",
    "import math"
   ]
  },
  {
   "cell_type": "code",
   "execution_count": 3,
   "metadata": {},
   "outputs": [
    {
     "data": {
      "text/plain": [
       "392.2172595594006"
      ]
     },
     "execution_count": 3,
     "metadata": {},
     "output_type": "execute_result"
    }
   ],
   "source": [
    "from haversine import haversine, Unit\n",
    "from haversine import haversine_vector, Unit"
   ]
  },
  {
   "cell_type": "code",
   "execution_count": 4,
   "metadata": {},
   "outputs": [],
   "source": [
    "os.getcwd()\n",
    "os.chdir(\"D:/WORK/Innovation/huff_gravity/\")"
   ]
  },
  {
   "cell_type": "code",
   "execution_count": 5,
   "metadata": {},
   "outputs": [],
   "source": [
    "file = pd.read_excel('Huff_Gravity_Data_30012020.xlsx')\n",
    "store = pd.read_excel('Store_Data.xlsx')"
   ]
  },
  {
   "cell_type": "code",
   "execution_count": 6,
   "metadata": {
    "collapsed": true
   },
   "outputs": [
    {
     "data": {
      "text/html": [
       "<div>\n",
       "<style scoped>\n",
       "    .dataframe tbody tr th:only-of-type {\n",
       "        vertical-align: middle;\n",
       "    }\n",
       "\n",
       "    .dataframe tbody tr th {\n",
       "        vertical-align: top;\n",
       "    }\n",
       "\n",
       "    .dataframe thead th {\n",
       "        text-align: right;\n",
       "    }\n",
       "</style>\n",
       "<table border=\"1\" class=\"dataframe\">\n",
       "  <thead>\n",
       "    <tr style=\"text-align: right;\">\n",
       "      <th></th>\n",
       "      <th>Location</th>\n",
       "      <th>Lat</th>\n",
       "      <th>Lng</th>\n",
       "      <th>store size</th>\n",
       "    </tr>\n",
       "  </thead>\n",
       "  <tbody>\n",
       "    <tr>\n",
       "      <th>0</th>\n",
       "      <td>A</td>\n",
       "      <td>32.64</td>\n",
       "      <td>-95.82</td>\n",
       "      <td>100000</td>\n",
       "    </tr>\n",
       "    <tr>\n",
       "      <th>1</th>\n",
       "      <td>B</td>\n",
       "      <td>32.50</td>\n",
       "      <td>-96.20</td>\n",
       "      <td>150000</td>\n",
       "    </tr>\n",
       "    <tr>\n",
       "      <th>2</th>\n",
       "      <td>C</td>\n",
       "      <td>32.93</td>\n",
       "      <td>-96.79</td>\n",
       "      <td>250000</td>\n",
       "    </tr>\n",
       "    <tr>\n",
       "      <th>3</th>\n",
       "      <td>D</td>\n",
       "      <td>33.11</td>\n",
       "      <td>-96.69</td>\n",
       "      <td>175000</td>\n",
       "    </tr>\n",
       "    <tr>\n",
       "      <th>4</th>\n",
       "      <td>E</td>\n",
       "      <td>31.13</td>\n",
       "      <td>-95.50</td>\n",
       "      <td>125000</td>\n",
       "    </tr>\n",
       "  </tbody>\n",
       "</table>\n",
       "</div>"
      ],
      "text/plain": [
       "  Location    Lat    Lng  store size\n",
       "0        A  32.64 -95.82      100000\n",
       "1        B  32.50 -96.20      150000\n",
       "2        C  32.93 -96.79      250000\n",
       "3        D  33.11 -96.69      175000\n",
       "4        E  31.13 -95.50      125000"
      ]
     },
     "execution_count": 6,
     "metadata": {},
     "output_type": "execute_result"
    }
   ],
   "source": [
    "store.head(5)"
   ]
  },
  {
   "cell_type": "code",
   "execution_count": 40,
   "metadata": {},
   "outputs": [],
   "source": [
    "s_size = list(store['store size'])"
   ]
  },
  {
   "cell_type": "code",
   "execution_count": 7,
   "metadata": {
    "collapsed": true
   },
   "outputs": [
    {
     "data": {
      "text/html": [
       "<div>\n",
       "<style scoped>\n",
       "    .dataframe tbody tr th:only-of-type {\n",
       "        vertical-align: middle;\n",
       "    }\n",
       "\n",
       "    .dataframe tbody tr th {\n",
       "        vertical-align: top;\n",
       "    }\n",
       "\n",
       "    .dataframe thead th {\n",
       "        text-align: right;\n",
       "    }\n",
       "</style>\n",
       "<table border=\"1\" class=\"dataframe\">\n",
       "  <thead>\n",
       "    <tr style=\"text-align: right;\">\n",
       "      <th></th>\n",
       "      <th>Zipcode</th>\n",
       "      <th>Total_Poplation</th>\n",
       "      <th>Total_Households</th>\n",
       "      <th>Total_Families</th>\n",
       "      <th>Latitude</th>\n",
       "      <th>Longitude</th>\n",
       "    </tr>\n",
       "  </thead>\n",
       "  <tbody>\n",
       "    <tr>\n",
       "      <th>0</th>\n",
       "      <td>75001</td>\n",
       "      <td>12414</td>\n",
       "      <td>8287</td>\n",
       "      <td>2933</td>\n",
       "      <td>32.961290</td>\n",
       "      <td>-96.83751</td>\n",
       "    </tr>\n",
       "    <tr>\n",
       "      <th>1</th>\n",
       "      <td>75002</td>\n",
       "      <td>63140</td>\n",
       "      <td>22029</td>\n",
       "      <td>18423</td>\n",
       "      <td>33.092846</td>\n",
       "      <td>-96.62447</td>\n",
       "    </tr>\n",
       "    <tr>\n",
       "      <th>2</th>\n",
       "      <td>75006</td>\n",
       "      <td>46364</td>\n",
       "      <td>17780</td>\n",
       "      <td>11952</td>\n",
       "      <td>32.960374</td>\n",
       "      <td>-96.89163</td>\n",
       "    </tr>\n",
       "    <tr>\n",
       "      <th>3</th>\n",
       "      <td>75007</td>\n",
       "      <td>51624</td>\n",
       "      <td>19109</td>\n",
       "      <td>14658</td>\n",
       "      <td>33.005420</td>\n",
       "      <td>-96.89773</td>\n",
       "    </tr>\n",
       "    <tr>\n",
       "      <th>4</th>\n",
       "      <td>75009</td>\n",
       "      <td>8785</td>\n",
       "      <td>3532</td>\n",
       "      <td>2895</td>\n",
       "      <td>33.327927</td>\n",
       "      <td>-96.76129</td>\n",
       "    </tr>\n",
       "  </tbody>\n",
       "</table>\n",
       "</div>"
      ],
      "text/plain": [
       "   Zipcode  Total_Poplation  Total_Households  Total_Families   Latitude  \\\n",
       "0    75001            12414              8287            2933  32.961290   \n",
       "1    75002            63140             22029           18423  33.092846   \n",
       "2    75006            46364             17780           11952  32.960374   \n",
       "3    75007            51624             19109           14658  33.005420   \n",
       "4    75009             8785              3532            2895  33.327927   \n",
       "\n",
       "   Longitude  \n",
       "0  -96.83751  \n",
       "1  -96.62447  \n",
       "2  -96.89163  \n",
       "3  -96.89773  \n",
       "4  -96.76129  "
      ]
     },
     "execution_count": 7,
     "metadata": {},
     "output_type": "execute_result"
    }
   ],
   "source": [
    "file.head(5)"
   ]
  },
  {
   "cell_type": "code",
   "execution_count": 16,
   "metadata": {},
   "outputs": [],
   "source": [
    "dist = []\n",
    "for i in range(len(file)):\n",
    "    dist1 = []\n",
    "    for j in range(len(store)):\n",
    "        t1 = tuple(file.loc[i,['Latitude', 'Longitude']])\n",
    "        t2 = tuple(store.loc[j,['Lat', 'Lng']])\n",
    "        h = haversine(t1,t2)\n",
    "        dist1.append(h)\n",
    "    dist.append(dist1)"
   ]
  },
  {
   "cell_type": "code",
   "execution_count": 20,
   "metadata": {
    "collapsed": true
   },
   "outputs": [
    {
     "data": {
      "text/plain": [
       "[90.44741520000082,\n",
       " 76.93998863152328,\n",
       " 23.79320479347019,\n",
       " 6.395119648647436,\n",
       " 242.59169147834166]"
      ]
     },
     "execution_count": 20,
     "metadata": {},
     "output_type": "execute_result"
    }
   ],
   "source": [
    "dist[1]"
   ]
  },
  {
   "cell_type": "code",
   "execution_count": 23,
   "metadata": {},
   "outputs": [],
   "source": [
    "dist_df = pd.DataFrame(dist, columns=['store1', 'store2', 'store3', 'store4', 'store5'])"
   ]
  },
  {
   "cell_type": "code",
   "execution_count": 27,
   "metadata": {
    "collapsed": true
   },
   "outputs": [
    {
     "data": {
      "text/html": [
       "<div>\n",
       "<style scoped>\n",
       "    .dataframe tbody tr th:only-of-type {\n",
       "        vertical-align: middle;\n",
       "    }\n",
       "\n",
       "    .dataframe tbody tr th {\n",
       "        vertical-align: top;\n",
       "    }\n",
       "\n",
       "    .dataframe thead th {\n",
       "        text-align: right;\n",
       "    }\n",
       "</style>\n",
       "<table border=\"1\" class=\"dataframe\">\n",
       "  <thead>\n",
       "    <tr style=\"text-align: right;\">\n",
       "      <th></th>\n",
       "      <th>store1</th>\n",
       "      <th>store2</th>\n",
       "      <th>store3</th>\n",
       "      <th>store4</th>\n",
       "      <th>store5</th>\n",
       "    </tr>\n",
       "  </thead>\n",
       "  <tbody>\n",
       "    <tr>\n",
       "      <th>0</th>\n",
       "      <td>101.591114</td>\n",
       "      <td>78.657307</td>\n",
       "      <td>5.635586</td>\n",
       "      <td>21.506119</td>\n",
       "      <td>239.486995</td>\n",
       "    </tr>\n",
       "    <tr>\n",
       "      <th>1</th>\n",
       "      <td>90.447415</td>\n",
       "      <td>76.939989</td>\n",
       "      <td>23.793205</td>\n",
       "      <td>6.395120</td>\n",
       "      <td>242.591691</td>\n",
       "    </tr>\n",
       "    <tr>\n",
       "      <th>2</th>\n",
       "      <td>106.307527</td>\n",
       "      <td>82.498218</td>\n",
       "      <td>10.066964</td>\n",
       "      <td>25.101603</td>\n",
       "      <td>242.125040</td>\n",
       "    </tr>\n",
       "    <tr>\n",
       "      <th>3</th>\n",
       "      <td>108.593873</td>\n",
       "      <td>86.115383</td>\n",
       "      <td>13.089539</td>\n",
       "      <td>22.583499</td>\n",
       "      <td>246.639305</td>\n",
       "    </tr>\n",
       "    <tr>\n",
       "      <th>4</th>\n",
       "      <td>116.444781</td>\n",
       "      <td>105.926342</td>\n",
       "      <td>44.328216</td>\n",
       "      <td>25.123469</td>\n",
       "      <td>271.665695</td>\n",
       "    </tr>\n",
       "  </tbody>\n",
       "</table>\n",
       "</div>"
      ],
      "text/plain": [
       "       store1      store2     store3     store4      store5\n",
       "0  101.591114   78.657307   5.635586  21.506119  239.486995\n",
       "1   90.447415   76.939989  23.793205   6.395120  242.591691\n",
       "2  106.307527   82.498218  10.066964  25.101603  242.125040\n",
       "3  108.593873   86.115383  13.089539  22.583499  246.639305\n",
       "4  116.444781  105.926342  44.328216  25.123469  271.665695"
      ]
     },
     "execution_count": 27,
     "metadata": {},
     "output_type": "execute_result"
    }
   ],
   "source": [
    "dist_df.head()"
   ]
  },
  {
   "cell_type": "code",
   "execution_count": 72,
   "metadata": {
    "collapsed": true
   },
   "outputs": [
    {
     "data": {
      "text/html": [
       "<div>\n",
       "<style scoped>\n",
       "    .dataframe tbody tr th:only-of-type {\n",
       "        vertical-align: middle;\n",
       "    }\n",
       "\n",
       "    .dataframe tbody tr th {\n",
       "        vertical-align: top;\n",
       "    }\n",
       "\n",
       "    .dataframe thead th {\n",
       "        text-align: right;\n",
       "    }\n",
       "</style>\n",
       "<table border=\"1\" class=\"dataframe\">\n",
       "  <thead>\n",
       "    <tr style=\"text-align: right;\">\n",
       "      <th></th>\n",
       "      <th>Zipcode</th>\n",
       "      <th>Total_Poplation</th>\n",
       "      <th>Total_Households</th>\n",
       "      <th>Total_Families</th>\n",
       "      <th>Latitude</th>\n",
       "      <th>Longitude</th>\n",
       "      <th>store1</th>\n",
       "      <th>store2</th>\n",
       "      <th>store3</th>\n",
       "      <th>store4</th>\n",
       "      <th>store5</th>\n",
       "    </tr>\n",
       "  </thead>\n",
       "  <tbody>\n",
       "    <tr>\n",
       "      <th>0</th>\n",
       "      <td>75001</td>\n",
       "      <td>12414</td>\n",
       "      <td>8287</td>\n",
       "      <td>2933</td>\n",
       "      <td>32.961290</td>\n",
       "      <td>-96.83751</td>\n",
       "      <td>101.591114</td>\n",
       "      <td>78.657307</td>\n",
       "      <td>5.635586</td>\n",
       "      <td>21.506119</td>\n",
       "      <td>239.486995</td>\n",
       "    </tr>\n",
       "    <tr>\n",
       "      <th>1</th>\n",
       "      <td>75002</td>\n",
       "      <td>63140</td>\n",
       "      <td>22029</td>\n",
       "      <td>18423</td>\n",
       "      <td>33.092846</td>\n",
       "      <td>-96.62447</td>\n",
       "      <td>90.447415</td>\n",
       "      <td>76.939989</td>\n",
       "      <td>23.793205</td>\n",
       "      <td>6.395120</td>\n",
       "      <td>242.591691</td>\n",
       "    </tr>\n",
       "    <tr>\n",
       "      <th>2</th>\n",
       "      <td>75006</td>\n",
       "      <td>46364</td>\n",
       "      <td>17780</td>\n",
       "      <td>11952</td>\n",
       "      <td>32.960374</td>\n",
       "      <td>-96.89163</td>\n",
       "      <td>106.307527</td>\n",
       "      <td>82.498218</td>\n",
       "      <td>10.066964</td>\n",
       "      <td>25.101603</td>\n",
       "      <td>242.125040</td>\n",
       "    </tr>\n",
       "    <tr>\n",
       "      <th>3</th>\n",
       "      <td>75007</td>\n",
       "      <td>51624</td>\n",
       "      <td>19109</td>\n",
       "      <td>14658</td>\n",
       "      <td>33.005420</td>\n",
       "      <td>-96.89773</td>\n",
       "      <td>108.593873</td>\n",
       "      <td>86.115383</td>\n",
       "      <td>13.089539</td>\n",
       "      <td>22.583499</td>\n",
       "      <td>246.639305</td>\n",
       "    </tr>\n",
       "    <tr>\n",
       "      <th>4</th>\n",
       "      <td>75009</td>\n",
       "      <td>8785</td>\n",
       "      <td>3532</td>\n",
       "      <td>2895</td>\n",
       "      <td>33.327927</td>\n",
       "      <td>-96.76129</td>\n",
       "      <td>116.444781</td>\n",
       "      <td>105.926342</td>\n",
       "      <td>44.328216</td>\n",
       "      <td>25.123469</td>\n",
       "      <td>271.665695</td>\n",
       "    </tr>\n",
       "  </tbody>\n",
       "</table>\n",
       "</div>"
      ],
      "text/plain": [
       "   Zipcode  Total_Poplation  Total_Households  Total_Families   Latitude  \\\n",
       "0    75001            12414              8287            2933  32.961290   \n",
       "1    75002            63140             22029           18423  33.092846   \n",
       "2    75006            46364             17780           11952  32.960374   \n",
       "3    75007            51624             19109           14658  33.005420   \n",
       "4    75009             8785              3532            2895  33.327927   \n",
       "\n",
       "   Longitude      store1      store2     store3     store4      store5  \n",
       "0  -96.83751  101.591114   78.657307   5.635586  21.506119  239.486995  \n",
       "1  -96.62447   90.447415   76.939989  23.793205   6.395120  242.591691  \n",
       "2  -96.89163  106.307527   82.498218  10.066964  25.101603  242.125040  \n",
       "3  -96.89773  108.593873   86.115383  13.089539  22.583499  246.639305  \n",
       "4  -96.76129  116.444781  105.926342  44.328216  25.123469  271.665695  "
      ]
     },
     "execution_count": 72,
     "metadata": {},
     "output_type": "execute_result"
    }
   ],
   "source": [
    "df = file.merge(dist_df, on=file.index)\n",
    "\n",
    "df = df.drop(columns=['key_0'], axis=1)\n",
    "\n",
    "df.head()"
   ]
  },
  {
   "cell_type": "code",
   "execution_count": 42,
   "metadata": {
    "collapsed": true
   },
   "outputs": [
    {
     "data": {
      "text/plain": [
       "0    101.591114\n",
       "1     90.447415\n",
       "2    106.307527\n",
       "3    108.593873\n",
       "4    116.444781\n",
       "Name: store1, dtype: float64"
      ]
     },
     "execution_count": 42,
     "metadata": {},
     "output_type": "execute_result"
    }
   ],
   "source": [
    "df['store1'].head()"
   ]
  },
  {
   "cell_type": "code",
   "execution_count": 73,
   "metadata": {},
   "outputs": [],
   "source": [
    "for i in range(len(store)):\n",
    "    df[str('attraction_'+str(i+1))] = s_size[i]/df.iloc[:,i+6]**2"
   ]
  },
  {
   "cell_type": "code",
   "execution_count": 155,
   "metadata": {
    "collapsed": true
   },
   "outputs": [
    {
     "data": {
      "text/html": [
       "<div>\n",
       "<style scoped>\n",
       "    .dataframe tbody tr th:only-of-type {\n",
       "        vertical-align: middle;\n",
       "    }\n",
       "\n",
       "    .dataframe tbody tr th {\n",
       "        vertical-align: top;\n",
       "    }\n",
       "\n",
       "    .dataframe thead th {\n",
       "        text-align: right;\n",
       "    }\n",
       "</style>\n",
       "<table border=\"1\" class=\"dataframe\">\n",
       "  <thead>\n",
       "    <tr style=\"text-align: right;\">\n",
       "      <th></th>\n",
       "      <th>lower_4</th>\n",
       "      <th>lower_5</th>\n",
       "      <th>upper_1</th>\n",
       "      <th>upper_2</th>\n",
       "      <th>upper_3</th>\n",
       "      <th>upper_4</th>\n",
       "      <th>upper_5</th>\n",
       "      <th>Weighted_Pop_1</th>\n",
       "      <th>Weighted_Pop_2</th>\n",
       "      <th>Weighted_Pop_3</th>\n",
       "      <th>...</th>\n",
       "      <th>Weighted_House_1</th>\n",
       "      <th>Weighted_family_1</th>\n",
       "      <th>Weighted_House_2</th>\n",
       "      <th>Weighted_family_2</th>\n",
       "      <th>Weighted_House_3</th>\n",
       "      <th>Weighted_family_3</th>\n",
       "      <th>Weighted_House_4</th>\n",
       "      <th>Weighted_family_4</th>\n",
       "      <th>Weighted_House_5</th>\n",
       "      <th>Weighted_family_5</th>\n",
       "    </tr>\n",
       "  </thead>\n",
       "  <tbody>\n",
       "    <tr>\n",
       "      <th>0</th>\n",
       "      <td>0.0</td>\n",
       "      <td>0.0</td>\n",
       "      <td>0.1</td>\n",
       "      <td>0.1</td>\n",
       "      <td>1.0</td>\n",
       "      <td>0.1</td>\n",
       "      <td>0.1</td>\n",
       "      <td>620.70</td>\n",
       "      <td>620.70</td>\n",
       "      <td>11793.30</td>\n",
       "      <td>...</td>\n",
       "      <td>414.35</td>\n",
       "      <td>146.65</td>\n",
       "      <td>414.35</td>\n",
       "      <td>146.65</td>\n",
       "      <td>7872.65</td>\n",
       "      <td>2786.35</td>\n",
       "      <td>414.35</td>\n",
       "      <td>146.65</td>\n",
       "      <td>414.35</td>\n",
       "      <td>146.65</td>\n",
       "    </tr>\n",
       "    <tr>\n",
       "      <th>1</th>\n",
       "      <td>0.8</td>\n",
       "      <td>0.0</td>\n",
       "      <td>0.1</td>\n",
       "      <td>0.1</td>\n",
       "      <td>0.1</td>\n",
       "      <td>0.9</td>\n",
       "      <td>0.1</td>\n",
       "      <td>3157.00</td>\n",
       "      <td>3157.00</td>\n",
       "      <td>3157.00</td>\n",
       "      <td>...</td>\n",
       "      <td>1101.45</td>\n",
       "      <td>921.15</td>\n",
       "      <td>1101.45</td>\n",
       "      <td>921.15</td>\n",
       "      <td>1101.45</td>\n",
       "      <td>921.15</td>\n",
       "      <td>18724.65</td>\n",
       "      <td>15659.55</td>\n",
       "      <td>1101.45</td>\n",
       "      <td>921.15</td>\n",
       "    </tr>\n",
       "    <tr>\n",
       "      <th>2</th>\n",
       "      <td>0.0</td>\n",
       "      <td>0.0</td>\n",
       "      <td>0.1</td>\n",
       "      <td>0.1</td>\n",
       "      <td>0.9</td>\n",
       "      <td>0.1</td>\n",
       "      <td>0.1</td>\n",
       "      <td>2318.20</td>\n",
       "      <td>2318.20</td>\n",
       "      <td>39409.40</td>\n",
       "      <td>...</td>\n",
       "      <td>889.00</td>\n",
       "      <td>597.60</td>\n",
       "      <td>889.00</td>\n",
       "      <td>597.60</td>\n",
       "      <td>15113.00</td>\n",
       "      <td>10159.20</td>\n",
       "      <td>889.00</td>\n",
       "      <td>597.60</td>\n",
       "      <td>889.00</td>\n",
       "      <td>597.60</td>\n",
       "    </tr>\n",
       "    <tr>\n",
       "      <th>3</th>\n",
       "      <td>0.1</td>\n",
       "      <td>0.0</td>\n",
       "      <td>0.1</td>\n",
       "      <td>0.1</td>\n",
       "      <td>0.8</td>\n",
       "      <td>0.2</td>\n",
       "      <td>0.1</td>\n",
       "      <td>2581.20</td>\n",
       "      <td>2581.20</td>\n",
       "      <td>38718.00</td>\n",
       "      <td>...</td>\n",
       "      <td>955.45</td>\n",
       "      <td>732.90</td>\n",
       "      <td>955.45</td>\n",
       "      <td>732.90</td>\n",
       "      <td>14331.75</td>\n",
       "      <td>10993.50</td>\n",
       "      <td>2866.35</td>\n",
       "      <td>2198.70</td>\n",
       "      <td>955.45</td>\n",
       "      <td>732.90</td>\n",
       "    </tr>\n",
       "    <tr>\n",
       "      <th>4</th>\n",
       "      <td>0.6</td>\n",
       "      <td>0.0</td>\n",
       "      <td>0.1</td>\n",
       "      <td>0.1</td>\n",
       "      <td>0.3</td>\n",
       "      <td>0.7</td>\n",
       "      <td>0.1</td>\n",
       "      <td>439.25</td>\n",
       "      <td>439.25</td>\n",
       "      <td>2196.25</td>\n",
       "      <td>...</td>\n",
       "      <td>176.60</td>\n",
       "      <td>144.75</td>\n",
       "      <td>176.60</td>\n",
       "      <td>144.75</td>\n",
       "      <td>883.00</td>\n",
       "      <td>723.75</td>\n",
       "      <td>2295.80</td>\n",
       "      <td>1881.75</td>\n",
       "      <td>176.60</td>\n",
       "      <td>144.75</td>\n",
       "    </tr>\n",
       "  </tbody>\n",
       "</table>\n",
       "<p>5 rows × 22 columns</p>\n",
       "</div>"
      ],
      "text/plain": [
       "   lower_4  lower_5  upper_1  upper_2  upper_3  upper_4  upper_5  \\\n",
       "0      0.0      0.0      0.1      0.1      1.0      0.1      0.1   \n",
       "1      0.8      0.0      0.1      0.1      0.1      0.9      0.1   \n",
       "2      0.0      0.0      0.1      0.1      0.9      0.1      0.1   \n",
       "3      0.1      0.0      0.1      0.1      0.8      0.2      0.1   \n",
       "4      0.6      0.0      0.1      0.1      0.3      0.7      0.1   \n",
       "\n",
       "   Weighted_Pop_1  Weighted_Pop_2  Weighted_Pop_3        ...          \\\n",
       "0          620.70          620.70        11793.30        ...           \n",
       "1         3157.00         3157.00         3157.00        ...           \n",
       "2         2318.20         2318.20        39409.40        ...           \n",
       "3         2581.20         2581.20        38718.00        ...           \n",
       "4          439.25          439.25         2196.25        ...           \n",
       "\n",
       "   Weighted_House_1  Weighted_family_1  Weighted_House_2  Weighted_family_2  \\\n",
       "0            414.35             146.65            414.35             146.65   \n",
       "1           1101.45             921.15           1101.45             921.15   \n",
       "2            889.00             597.60            889.00             597.60   \n",
       "3            955.45             732.90            955.45             732.90   \n",
       "4            176.60             144.75            176.60             144.75   \n",
       "\n",
       "   Weighted_House_3  Weighted_family_3  Weighted_House_4  Weighted_family_4  \\\n",
       "0           7872.65            2786.35            414.35             146.65   \n",
       "1           1101.45             921.15          18724.65           15659.55   \n",
       "2          15113.00           10159.20            889.00             597.60   \n",
       "3          14331.75           10993.50           2866.35            2198.70   \n",
       "4            883.00             723.75           2295.80            1881.75   \n",
       "\n",
       "   Weighted_House_5  Weighted_family_5  \n",
       "0            414.35             146.65  \n",
       "1           1101.45             921.15  \n",
       "2            889.00             597.60  \n",
       "3            955.45             732.90  \n",
       "4            176.60             144.75  \n",
       "\n",
       "[5 rows x 22 columns]"
      ]
     },
     "execution_count": 155,
     "metadata": {},
     "output_type": "execute_result"
    }
   ],
   "source": [
    "df.iloc[:,25:].head()"
   ]
  },
  {
   "cell_type": "code",
   "execution_count": 76,
   "metadata": {},
   "outputs": [],
   "source": [
    "# addition of all attraction parameters\n",
    "df['Tot_attraction'] = df.loc[:,['attraction_1','attraction_2','attraction_3','attraction_4','attraction_5']].sum(axis=1)"
   ]
  },
  {
   "cell_type": "code",
   "execution_count": 79,
   "metadata": {},
   "outputs": [],
   "source": [
    "for i in range(len(store)):\n",
    "    df[str('prob_'+str(i+1))] = df[str('attraction_'+str(i+1))]/df['Tot_attraction']"
   ]
  },
  {
   "cell_type": "code",
   "execution_count": 94,
   "metadata": {},
   "outputs": [
    {
     "data": {
      "text/plain": [
       "array([0. , 0.1, 0.2, 0.3, 0.4, 0.5, 0.6, 0.7, 0.8, 0.9])"
      ]
     },
     "execution_count": 94,
     "metadata": {},
     "output_type": "execute_result"
    }
   ],
   "source": [
    "index = np.linspace(start=0, stop=0.9, num=10)\n",
    "index"
   ]
  },
  {
   "cell_type": "code",
   "execution_count": 100,
   "metadata": {},
   "outputs": [],
   "source": [
    "for i in range(len(store)):\n",
    "    for j in range(len(index)):\n",
    "            df.loc[(df[str('prob_'+str(i+1))] > index[j]) & (df[str('prob_'+str(i+1))] <= index[j]+0.1),str('lower_'+str(i+1))] = index[j]\n",
    "            df.loc[(df[str('prob_'+str(i+1))] > index[j]) & (df[str('prob_'+str(i+1))] <= index[j]+0.1),str('upper_'+str(i+1))] = index[j]+0.1"
   ]
  },
  {
   "cell_type": "code",
   "execution_count": 152,
   "metadata": {},
   "outputs": [],
   "source": [
    "a = []\n",
    "b = []\n",
    "c = []\n",
    "\n",
    "for i in range(len(store)):\n",
    "    df[str('Weighted_Pop_'+ str(i+1))] = df['Total_Poplation']*(df[str('upper_'+str(i+1))]+df[str('lower_'+str(i+1))])/2\n",
    "    df[str('Weighted_House_'+ str(i+1))] = df['Total_Households']*(df[str('upper_'+str(i+1))]+df[str('lower_'+str(i+1))])/2\n",
    "    df[str('Weighted_family_'+ str(i+1))] = df['Total_Families']*(df[str('upper_'+str(i+1))]+df[str('lower_'+str(i+1))])/2\n",
    "    a.append(df[str('Weighted_Pop_'+ str(i+1))].sum()/df['Total_Poplation'].sum())\n",
    "    b.append(df[str('Weighted_House_'+ str(i+1))].sum()/df['Total_Households'].sum())\n",
    "    c.append(df[str('Weighted_family_'+ str(i+1))].sum()/df['Total_Families'].sum())"
   ]
  },
  {
   "cell_type": "code",
   "execution_count": 165,
   "metadata": {},
   "outputs": [],
   "source": [
    "summary = pd.DataFrame([a,b,c]).T\n",
    "summary.columns = ['perc_pop','perc_house','perc_family']"
   ]
  },
  {
   "cell_type": "code",
   "execution_count": 169,
   "metadata": {},
   "outputs": [],
   "source": [
    "summary.index = ['store1','store2','store3','store4','store5']"
   ]
  },
  {
   "cell_type": "code",
   "execution_count": 171,
   "metadata": {
    "collapsed": true
   },
   "outputs": [
    {
     "data": {
      "text/html": [
       "<div>\n",
       "<style scoped>\n",
       "    .dataframe tbody tr th:only-of-type {\n",
       "        vertical-align: middle;\n",
       "    }\n",
       "\n",
       "    .dataframe tbody tr th {\n",
       "        vertical-align: top;\n",
       "    }\n",
       "\n",
       "    .dataframe thead th {\n",
       "        text-align: right;\n",
       "    }\n",
       "</style>\n",
       "<table border=\"1\" class=\"dataframe\">\n",
       "  <thead>\n",
       "    <tr style=\"text-align: right;\">\n",
       "      <th></th>\n",
       "      <th>perc_pop</th>\n",
       "      <th>perc_house</th>\n",
       "      <th>perc_family</th>\n",
       "    </tr>\n",
       "  </thead>\n",
       "  <tbody>\n",
       "    <tr>\n",
       "      <th>store1</th>\n",
       "      <td>10.350639</td>\n",
       "      <td>10.211919</td>\n",
       "      <td>10.206879</td>\n",
       "    </tr>\n",
       "    <tr>\n",
       "      <th>store2</th>\n",
       "      <td>14.051925</td>\n",
       "      <td>13.901707</td>\n",
       "      <td>13.970002</td>\n",
       "    </tr>\n",
       "    <tr>\n",
       "      <th>store3</th>\n",
       "      <td>33.306030</td>\n",
       "      <td>33.645707</td>\n",
       "      <td>33.193064</td>\n",
       "    </tr>\n",
       "    <tr>\n",
       "      <th>store4</th>\n",
       "      <td>18.502757</td>\n",
       "      <td>18.593188</td>\n",
       "      <td>18.913333</td>\n",
       "    </tr>\n",
       "    <tr>\n",
       "      <th>store5</th>\n",
       "      <td>24.349058</td>\n",
       "      <td>24.331049</td>\n",
       "      <td>24.382564</td>\n",
       "    </tr>\n",
       "  </tbody>\n",
       "</table>\n",
       "</div>"
      ],
      "text/plain": [
       "         perc_pop  perc_house  perc_family\n",
       "store1  10.350639   10.211919    10.206879\n",
       "store2  14.051925   13.901707    13.970002\n",
       "store3  33.306030   33.645707    33.193064\n",
       "store4  18.502757   18.593188    18.913333\n",
       "store5  24.349058   24.331049    24.382564"
      ]
     },
     "execution_count": 171,
     "metadata": {},
     "output_type": "execute_result"
    }
   ],
   "source": [
    "summary*100"
   ]
  }
 ],
 "metadata": {
  "kernelspec": {
   "display_name": "Python 3",
   "language": "python",
   "name": "python3"
  },
  "language_info": {
   "codemirror_mode": {
    "name": "ipython",
    "version": 3
   },
   "file_extension": ".py",
   "mimetype": "text/x-python",
   "name": "python",
   "nbconvert_exporter": "python",
   "pygments_lexer": "ipython3",
   "version": "3.6.5"
  }
 },
 "nbformat": 4,
 "nbformat_minor": 2
}
